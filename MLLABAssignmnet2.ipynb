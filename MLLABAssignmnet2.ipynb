{
  "cells": [
    {
      "cell_type": "markdown",
      "metadata": {
        "id": "7ywSRtNI4s5h"
      },
      "source": [
        "# 1.) Import the data from CCLE into a new Google Colab file"
      ]
    },
    {
      "cell_type": "code",
      "execution_count": 74,
      "metadata": {
        "id": "nsG1QV154GYZ"
      },
      "outputs": [],
      "source": [
        "import pandas as pd\n",
        "from google.colab import drive\n",
        "import matplotlib.pyplot as plt"
      ]
    },
    {
      "cell_type": "code",
      "execution_count": 75,
      "metadata": {
        "id": "Iku0T8Ou4Lcu",
        "colab": {
          "base_uri": "https://localhost:8080/"
        },
        "outputId": "ab4170ea-a6e2-4099-baf1-6d47b936b5f6"
      },
      "outputs": [
        {
          "output_type": "stream",
          "name": "stdout",
          "text": [
            "Mounted at /content/gdrive/\n"
          ]
        }
      ],
      "source": [
        "drive.mount('/content/gdrive/', force_remount = True)"
      ]
    },
    {
      "cell_type": "code",
      "execution_count": 77,
      "metadata": {
        "id": "KJQfo8mz43Kz"
      },
      "outputs": [],
      "source": [
        "df = pd.read_csv(\"/content/gdrive/MyDrive/ECON441B/insurance.csv\")"
      ]
    },
    {
      "cell_type": "markdown",
      "metadata": {
        "id": "b6dsh9sc43jg"
      },
      "source": [
        "# 2.) Split the data into 80/20, in/out sample"
      ]
    },
    {
      "cell_type": "code",
      "execution_count": 78,
      "metadata": {
        "id": "0Dj2Fopx47jY"
      },
      "outputs": [],
      "source": [
        "df.loc[df[\"sex\"] ==\"female\",\"sex\"] = 1\n",
        "df.loc[df[\"sex\"] ==\"male\",\"sex\"] = 0\n",
        "df.loc[df[\"smoker\"] == \"yes\",\"smoker\"] = 1.\n",
        "df.loc[df[\"smoker\"] == \"no\",\"smoker\"] = 0.\n",
        "\n",
        "df.loc[df[\"region\"] == \"southwest\",\"region\"] = 1.\n",
        "df.loc[df[\"region\"] == \"southeast\",\"region\"] = 2.\n",
        "df.loc[df[\"region\"] == \"northwest\",\"region\"] = 3.\n",
        "df.loc[df[\"region\"] == \"northeast\",\"region\"] = 4."
      ]
    },
    {
      "cell_type": "code",
      "execution_count": 79,
      "metadata": {
        "id": "EU2j_fos48Uz",
        "colab": {
          "base_uri": "https://localhost:8080/",
          "height": 204
        },
        "outputId": "7f41b3af-5dde-45e1-cf26-2821103cc593"
      },
      "outputs": [
        {
          "output_type": "execute_result",
          "data": {
            "text/plain": [
              "   age sex     bmi  children smoker region      charges\n",
              "0   19   1  27.900         0    1.0    1.0  16884.92400\n",
              "1   18   0  33.770         1    0.0    2.0   1725.55230\n",
              "2   28   0  33.000         3    0.0    2.0   4449.46200\n",
              "3   33   0  22.705         0    0.0    3.0  21984.47061\n",
              "4   32   0  28.880         0    0.0    3.0   3866.85520"
            ],
            "text/html": [
              "\n",
              "  <div id=\"df-aba60d9a-f06e-40ee-b088-8583a827e1ea\">\n",
              "    <div class=\"colab-df-container\">\n",
              "      <div>\n",
              "<style scoped>\n",
              "    .dataframe tbody tr th:only-of-type {\n",
              "        vertical-align: middle;\n",
              "    }\n",
              "\n",
              "    .dataframe tbody tr th {\n",
              "        vertical-align: top;\n",
              "    }\n",
              "\n",
              "    .dataframe thead th {\n",
              "        text-align: right;\n",
              "    }\n",
              "</style>\n",
              "<table border=\"1\" class=\"dataframe\">\n",
              "  <thead>\n",
              "    <tr style=\"text-align: right;\">\n",
              "      <th></th>\n",
              "      <th>age</th>\n",
              "      <th>sex</th>\n",
              "      <th>bmi</th>\n",
              "      <th>children</th>\n",
              "      <th>smoker</th>\n",
              "      <th>region</th>\n",
              "      <th>charges</th>\n",
              "    </tr>\n",
              "  </thead>\n",
              "  <tbody>\n",
              "    <tr>\n",
              "      <th>0</th>\n",
              "      <td>19</td>\n",
              "      <td>1</td>\n",
              "      <td>27.900</td>\n",
              "      <td>0</td>\n",
              "      <td>1.0</td>\n",
              "      <td>1.0</td>\n",
              "      <td>16884.92400</td>\n",
              "    </tr>\n",
              "    <tr>\n",
              "      <th>1</th>\n",
              "      <td>18</td>\n",
              "      <td>0</td>\n",
              "      <td>33.770</td>\n",
              "      <td>1</td>\n",
              "      <td>0.0</td>\n",
              "      <td>2.0</td>\n",
              "      <td>1725.55230</td>\n",
              "    </tr>\n",
              "    <tr>\n",
              "      <th>2</th>\n",
              "      <td>28</td>\n",
              "      <td>0</td>\n",
              "      <td>33.000</td>\n",
              "      <td>3</td>\n",
              "      <td>0.0</td>\n",
              "      <td>2.0</td>\n",
              "      <td>4449.46200</td>\n",
              "    </tr>\n",
              "    <tr>\n",
              "      <th>3</th>\n",
              "      <td>33</td>\n",
              "      <td>0</td>\n",
              "      <td>22.705</td>\n",
              "      <td>0</td>\n",
              "      <td>0.0</td>\n",
              "      <td>3.0</td>\n",
              "      <td>21984.47061</td>\n",
              "    </tr>\n",
              "    <tr>\n",
              "      <th>4</th>\n",
              "      <td>32</td>\n",
              "      <td>0</td>\n",
              "      <td>28.880</td>\n",
              "      <td>0</td>\n",
              "      <td>0.0</td>\n",
              "      <td>3.0</td>\n",
              "      <td>3866.85520</td>\n",
              "    </tr>\n",
              "  </tbody>\n",
              "</table>\n",
              "</div>\n",
              "      <button class=\"colab-df-convert\" onclick=\"convertToInteractive('df-aba60d9a-f06e-40ee-b088-8583a827e1ea')\"\n",
              "              title=\"Convert this dataframe to an interactive table.\"\n",
              "              style=\"display:none;\">\n",
              "        \n",
              "  <svg xmlns=\"http://www.w3.org/2000/svg\" height=\"24px\"viewBox=\"0 0 24 24\"\n",
              "       width=\"24px\">\n",
              "    <path d=\"M0 0h24v24H0V0z\" fill=\"none\"/>\n",
              "    <path d=\"M18.56 5.44l.94 2.06.94-2.06 2.06-.94-2.06-.94-.94-2.06-.94 2.06-2.06.94zm-11 1L8.5 8.5l.94-2.06 2.06-.94-2.06-.94L8.5 2.5l-.94 2.06-2.06.94zm10 10l.94 2.06.94-2.06 2.06-.94-2.06-.94-.94-2.06-.94 2.06-2.06.94z\"/><path d=\"M17.41 7.96l-1.37-1.37c-.4-.4-.92-.59-1.43-.59-.52 0-1.04.2-1.43.59L10.3 9.45l-7.72 7.72c-.78.78-.78 2.05 0 2.83L4 21.41c.39.39.9.59 1.41.59.51 0 1.02-.2 1.41-.59l7.78-7.78 2.81-2.81c.8-.78.8-2.07 0-2.86zM5.41 20L4 18.59l7.72-7.72 1.47 1.35L5.41 20z\"/>\n",
              "  </svg>\n",
              "      </button>\n",
              "      \n",
              "  <style>\n",
              "    .colab-df-container {\n",
              "      display:flex;\n",
              "      flex-wrap:wrap;\n",
              "      gap: 12px;\n",
              "    }\n",
              "\n",
              "    .colab-df-convert {\n",
              "      background-color: #E8F0FE;\n",
              "      border: none;\n",
              "      border-radius: 50%;\n",
              "      cursor: pointer;\n",
              "      display: none;\n",
              "      fill: #1967D2;\n",
              "      height: 32px;\n",
              "      padding: 0 0 0 0;\n",
              "      width: 32px;\n",
              "    }\n",
              "\n",
              "    .colab-df-convert:hover {\n",
              "      background-color: #E2EBFA;\n",
              "      box-shadow: 0px 1px 2px rgba(60, 64, 67, 0.3), 0px 1px 3px 1px rgba(60, 64, 67, 0.15);\n",
              "      fill: #174EA6;\n",
              "    }\n",
              "\n",
              "    [theme=dark] .colab-df-convert {\n",
              "      background-color: #3B4455;\n",
              "      fill: #D2E3FC;\n",
              "    }\n",
              "\n",
              "    [theme=dark] .colab-df-convert:hover {\n",
              "      background-color: #434B5C;\n",
              "      box-shadow: 0px 1px 3px 1px rgba(0, 0, 0, 0.15);\n",
              "      filter: drop-shadow(0px 1px 2px rgba(0, 0, 0, 0.3));\n",
              "      fill: #FFFFFF;\n",
              "    }\n",
              "  </style>\n",
              "\n",
              "      <script>\n",
              "        const buttonEl =\n",
              "          document.querySelector('#df-aba60d9a-f06e-40ee-b088-8583a827e1ea button.colab-df-convert');\n",
              "        buttonEl.style.display =\n",
              "          google.colab.kernel.accessAllowed ? 'block' : 'none';\n",
              "\n",
              "        async function convertToInteractive(key) {\n",
              "          const element = document.querySelector('#df-aba60d9a-f06e-40ee-b088-8583a827e1ea');\n",
              "          const dataTable =\n",
              "            await google.colab.kernel.invokeFunction('convertToInteractive',\n",
              "                                                     [key], {});\n",
              "          if (!dataTable) return;\n",
              "\n",
              "          const docLinkHtml = 'Like what you see? Visit the ' +\n",
              "            '<a target=\"_blank\" href=https://colab.research.google.com/notebooks/data_table.ipynb>data table notebook</a>'\n",
              "            + ' to learn more about interactive tables.';\n",
              "          element.innerHTML = '';\n",
              "          dataTable['output_type'] = 'display_data';\n",
              "          await google.colab.output.renderOutput(dataTable, element);\n",
              "          const docLink = document.createElement('div');\n",
              "          docLink.innerHTML = docLinkHtml;\n",
              "          element.appendChild(docLink);\n",
              "        }\n",
              "      </script>\n",
              "    </div>\n",
              "  </div>\n",
              "  "
            ]
          },
          "metadata": {},
          "execution_count": 79
        }
      ],
      "source": [
        "df.head()"
      ]
    },
    {
      "cell_type": "code",
      "execution_count": 80,
      "metadata": {
        "id": "4zdi7HCb48X3"
      },
      "outputs": [],
      "source": [
        "import numpy as np"
      ]
    },
    {
      "cell_type": "code",
      "source": [
        "data = np.array(df.iloc[:,:6])\n",
        "target = np.array(df.iloc[:, -1])"
      ],
      "metadata": {
        "id": "gX8YTzntalvb"
      },
      "execution_count": 81,
      "outputs": []
    },
    {
      "cell_type": "code",
      "source": [
        "cut = int((len(data)* .8 // 1))"
      ],
      "metadata": {
        "id": "MEhY6wqIal-I"
      },
      "execution_count": 82,
      "outputs": []
    },
    {
      "cell_type": "code",
      "source": [
        "in_data = data[:cut]\n",
        "out_data = data[cut:]\n",
        "\n",
        "in_target = target[:cut]\n",
        "out_target = target[cut:]"
      ],
      "metadata": {
        "id": "lLqBzjlKaqWt"
      },
      "execution_count": 83,
      "outputs": []
    },
    {
      "cell_type": "markdown",
      "metadata": {
        "id": "hnZPWyYg48y9"
      },
      "source": [
        "# 3.) Normalize the Data"
      ]
    },
    {
      "cell_type": "code",
      "execution_count": 84,
      "metadata": {
        "id": "eq2VCgOk4-2u"
      },
      "outputs": [],
      "source": [
        "from sklearn import preprocessing"
      ]
    },
    {
      "cell_type": "code",
      "execution_count": 85,
      "metadata": {
        "id": "ye4jMpQt4_nP"
      },
      "outputs": [],
      "source": [
        "scaler = preprocessing.StandardScaler().fit(in_data)\n",
        "in_data_scale = scaler.transform(in_data)\n",
        "out_data_scale = scaler.transform(out_data)\n"
      ]
    },
    {
      "cell_type": "markdown",
      "metadata": {
        "id": "8WC0zdBU5AIQ"
      },
      "source": [
        "# 4.) Get lambda from Lasso cross validation"
      ]
    },
    {
      "cell_type": "code",
      "source": [
        "from sklearn.linear_model import LassoCV"
      ],
      "metadata": {
        "id": "I6qlFUlrbVcj"
      },
      "execution_count": 86,
      "outputs": []
    },
    {
      "cell_type": "code",
      "source": [
        "modCV = LassoCV().fit(in_data_scale, in_target)"
      ],
      "metadata": {
        "id": "P8G9ykcdbcwJ"
      },
      "execution_count": 87,
      "outputs": []
    },
    {
      "cell_type": "code",
      "execution_count": 88,
      "metadata": {
        "id": "jWRcnpVp5Cdb",
        "colab": {
          "base_uri": "https://localhost:8080/"
        },
        "outputId": "9a7bcd90-fc15-423e-b3fa-e6d0f5b0a9fb"
      },
      "outputs": [
        {
          "output_type": "stream",
          "name": "stdout",
          "text": [
            "133.34880015958146\n"
          ]
        }
      ],
      "source": [
        "a1 = modCV.alpha_\n",
        "print(a1)"
      ]
    },
    {
      "cell_type": "code",
      "source": [
        "modCV = LassoCV().fit(out_data_scale, out_target)"
      ],
      "metadata": {
        "id": "5HbT7x93oeGh"
      },
      "execution_count": 89,
      "outputs": []
    },
    {
      "cell_type": "code",
      "source": [
        "a2 = modCV.alpha_\n",
        "print(a2)"
      ],
      "metadata": {
        "id": "elrQrOP8ojo_",
        "colab": {
          "base_uri": "https://localhost:8080/"
        },
        "outputId": "58f1cd7d-95a7-4e94-e4a7-8b6eecffa04b"
      },
      "execution_count": 90,
      "outputs": [
        {
          "output_type": "stream",
          "name": "stdout",
          "text": [
            "118.95754102834297\n"
          ]
        }
      ]
    },
    {
      "cell_type": "markdown",
      "metadata": {
        "id": "_--IC6M65DAG"
      },
      "source": [
        "# 5.) Run a lambda regression with that Lambda"
      ]
    },
    {
      "cell_type": "code",
      "execution_count": 91,
      "metadata": {
        "id": "gkdZGF-45EvR"
      },
      "outputs": [],
      "source": [
        "from sklearn.linear_model import Lasso"
      ]
    },
    {
      "cell_type": "code",
      "execution_count": 92,
      "metadata": {
        "id": "RSE7QkQt5FK4"
      },
      "outputs": [],
      "source": [
        "mod1 = Lasso(alpha = a1).fit(in_data_scale, in_target)"
      ]
    },
    {
      "cell_type": "code",
      "source": [
        "mod2 = Lasso(alpha = a2).fit(out_data_scale, out_target)"
      ],
      "metadata": {
        "id": "qnun0EiLfbAo"
      },
      "execution_count": 93,
      "outputs": []
    },
    {
      "cell_type": "markdown",
      "metadata": {
        "id": "bIrU3G0V5Fkd"
      },
      "source": [
        "# 6.) Visualize the coefficients "
      ]
    },
    {
      "cell_type": "code",
      "execution_count": 94,
      "metadata": {
        "id": "yHMKovxw5JyP",
        "colab": {
          "base_uri": "https://localhost:8080/"
        },
        "outputId": "0d6e1a74-a4fb-4f3c-ab51-6727d2ba7ad6"
      },
      "outputs": [
        {
          "output_type": "execute_result",
          "data": {
            "text/plain": [
              "array([3564.26137833,    0.        , 1890.8527485 ,  398.24050447,\n",
              "       9324.84227138,  326.52198757])"
            ]
          },
          "metadata": {},
          "execution_count": 94
        }
      ],
      "source": [
        "mod1.coef_"
      ]
    },
    {
      "cell_type": "code",
      "execution_count": 95,
      "metadata": {
        "id": "hJ6_uMFn5Rmt",
        "colab": {
          "base_uri": "https://localhost:8080/"
        },
        "outputId": "ef594c46-1104-4ed6-f0c1-146c47863c72"
      },
      "outputs": [
        {
          "output_type": "execute_result",
          "data": {
            "text/plain": [
              "array([3397.61699996,  -90.90555313, 1841.53832194,  583.1451853 ,\n",
              "       9696.19181096,    0.        ])"
            ]
          },
          "metadata": {},
          "execution_count": 95
        }
      ],
      "source": [
        "mod2.coef_"
      ]
    },
    {
      "cell_type": "code",
      "source": [
        "coef1 = mod1.coef_\n",
        "coef2 = mod2.coef_"
      ],
      "metadata": {
        "id": "_IYMl_8qhTMG"
      },
      "execution_count": 96,
      "outputs": []
    },
    {
      "cell_type": "code",
      "source": [
        "x = ['b0','b1','b2','b3','b4','b5']\n",
        "x_axis = np.arange(len(x))\n",
        "plt.bar(x_axis - 0.2, coef1, 0.4, label = 'in-sample data')\n",
        "plt.bar(x_axis + 0.2, coef2, 0.4, label = 'out of sample data')\n",
        "plt.xticks(x_axis, x)\n",
        "plt.xlabel(\"coefficients\")\n",
        "plt.ylabel (\"value\")\n",
        "plt.title(\"coefficient visualization\")\n",
        "plt.legend()\n",
        "plt.show()"
      ],
      "metadata": {
        "colab": {
          "base_uri": "https://localhost:8080/",
          "height": 295
        },
        "id": "PdBNoISjhepj",
        "outputId": "cb49b5a8-97ba-4680-b187-a3205c5e0da2"
      },
      "execution_count": 97,
      "outputs": [
        {
          "output_type": "display_data",
          "data": {
            "text/plain": [
              "<Figure size 432x288 with 1 Axes>"
            ],
            "image/png": "[encoded data removed]"
          },
          "metadata": {
            "needs_background": "light"
          }
        }
      ]
    },
    {
      "cell_type": "markdown",
      "metadata": {
        "id": "_vl1fi9m5Rzf"
      },
      "source": [
        "# 7.) Interpret the coefficients"
      ]
    },
    {
      "cell_type": "markdown",
      "source": [
        "From the graph above, we see that the results from in-sample data are similar to the results from out of sample data. Holding other variables constant, if age increases by 1 year, then the insurance will increase by about $3500. The insurance is going to increase by $200 if body mass index increases by 1 unit. "
      ],
      "metadata": {
        "id": "uDezMYW88LkD"
      }
    },
    {
      "cell_type": "markdown",
      "source": [],
      "metadata": {
        "id": "FEOdKnVu7vWv"
      }
    },
    {
      "cell_type": "markdown",
      "metadata": {
        "id": "WpR8BVH05UFU"
      },
      "source": [
        "# 8.) Compare in and out of sample MSE’s"
      ]
    },
    {
      "cell_type": "code",
      "execution_count": 71,
      "metadata": {
        "id": "8GUc8LoE5Vym",
        "colab": {
          "base_uri": "https://localhost:8080/"
        },
        "outputId": "c19c4a32-1028-428c-d072-9a1a0997e5b3"
      },
      "outputs": [
        {
          "output_type": "execute_result",
          "data": {
            "text/plain": [
              "array([24933.78011265,  3864.47297708,  6815.10290666, ...,\n",
              "       12177.79520243, 11741.14195836, 12360.55112834])"
            ]
          },
          "metadata": {},
          "execution_count": 71
        }
      ],
      "source": [
        "mod1.predict(np.array(in_data_scale))"
      ]
    },
    {
      "cell_type": "code",
      "execution_count": 72,
      "metadata": {
        "id": "1m8z_hPn5WvY",
        "colab": {
          "base_uri": "https://localhost:8080/"
        },
        "outputId": "e2bc0dfd-6092-4a84-fb31-f5de82509cc5"
      },
      "outputs": [
        {
          "output_type": "execute_result",
          "data": {
            "text/plain": [
              "array([ 3.42602387e+04,  1.41187813e+04,  3.96599668e+03,  1.19758729e+04,\n",
              "        9.24608851e+03,  6.41342410e+03,  1.07486276e+04,  2.38384844e+03,\n",
              "        2.99754093e+04,  1.62578417e+04,  1.35474464e+03,  6.06385352e+03,\n",
              "        5.11842683e+03,  7.17362831e+03,  1.43878057e+04,  3.08332948e+04,\n",
              "        1.14479515e+04,  1.27053687e+04,  1.68984198e+04,  9.60654064e+03,\n",
              "        3.59079528e+04,  1.15249989e+04,  6.35262469e+03,  2.79637925e+04,\n",
              "        1.34528337e+04,  5.04962495e+03,  3.72940079e+04,  4.96791060e+03,\n",
              "        1.11203392e+04,  6.06321747e+03,  2.81634940e+04,  1.23220246e+04,\n",
              "        8.70539686e+03,  1.43204597e+04,  7.37122785e+03,  1.17115887e+04,\n",
              "        1.01115864e+04,  1.02089631e+04,  5.27724423e+03,  7.90099067e+03,\n",
              "        1.25220107e+04,  3.58792029e+04,  3.43038289e+04,  5.43919056e+03,\n",
              "        2.40431342e+03,  1.30562606e+04,  1.07314830e+04,  3.07328461e+04,\n",
              "        3.28990855e+04,  3.99257262e+03,  2.85069591e+04,  1.30478618e+04,\n",
              "        3.88395111e+04,  6.06097219e+03,  3.24332290e+04,  1.20095875e+04,\n",
              "        1.17280447e+04,  9.52254163e+03,  8.04799913e+03, -5.28557327e+02,\n",
              "        8.32173102e+03,  1.08216331e+04,  1.53518713e+04,  7.32318339e+03,\n",
              "        6.42522962e+03,  1.12737400e+04,  7.90791376e+03,  2.25316133e+03,\n",
              "        6.54603686e+03,  2.78755624e+04,  1.31867803e+04,  1.04670313e+04,\n",
              "        9.29897617e+03,  9.59997546e+03,  1.22318579e+04,  1.33458660e+04,\n",
              "        3.80061698e+04,  3.74514831e+03,  9.67394564e+03,  9.87509857e+03,\n",
              "        2.77539440e+03,  1.42597316e+04,  3.51338247e+04,  9.01946525e+03,\n",
              "        1.12249312e+04,  6.09637709e+03,  3.18091472e+04,  2.79863568e+03,\n",
              "        3.34241967e+03,  9.40924205e+03,  1.05684081e+04,  1.13626059e+04,\n",
              "        8.91245162e+03,  2.14253510e+03,  8.18910389e+03,  5.59584919e+03,\n",
              "        1.53791236e+04,  4.67079548e+03,  8.78345146e+03,  8.98239756e+03,\n",
              "        2.67531171e+04,  3.28699460e+04,  1.54232283e+04,  8.42697756e+03,\n",
              "        7.12669925e+03,  2.76636177e+03,  3.37655590e+04,  7.67318958e+03,\n",
              "        5.35799402e+03,  3.01302562e+04,  1.23704545e+04,  4.10250791e+03,\n",
              "        4.45642236e+03,  9.58398256e+03,  2.81152512e+04,  8.38353965e+03,\n",
              "        3.07154147e+04,  1.40705309e+04,  3.19474868e+04,  3.27924805e+03,\n",
              "        7.62694030e+03,  6.20422701e+03,  1.35122295e+04,  1.18848665e+04,\n",
              "        3.31114537e+03,  3.76494993e+03,  2.71276377e+04,  9.46819351e+03,\n",
              "        8.44701995e+03,  5.51488595e+03,  6.69076518e+03,  1.37155435e+04,\n",
              "        4.46525681e+03,  1.19827708e+04,  2.75259437e+04,  3.76447812e+03,\n",
              "        1.49702853e+04,  3.33980369e+04,  3.05916069e+04,  1.53591327e+04,\n",
              "        7.94582869e+03,  1.01329096e+04,  2.81975100e+02,  1.28335381e+04,\n",
              "        5.71577621e+03,  5.63251279e+03,  6.66308480e+03,  8.69522133e+03,\n",
              "        3.54937328e+04,  9.02224156e+03,  3.61776512e+03,  7.60867687e+03,\n",
              "        9.13333297e+03,  2.56723013e+04,  7.04770219e+03,  9.75146695e+03,\n",
              "        4.65858812e+03,  1.17866338e+04,  1.33401077e+04,  1.25717696e+04,\n",
              "        3.80618392e+04,  2.48789562e+04,  1.11708382e+04,  1.04506311e+04,\n",
              "        9.49466101e+03,  5.11027972e+03,  1.09739995e+04,  1.17570607e+04,\n",
              "        6.69118777e+03,  8.52803789e+03,  3.97873965e+04,  4.12061853e+04,\n",
              "        2.47239613e+03,  6.02838959e+03,  3.87322450e+03,  5.98979152e+03,\n",
              "        9.33913980e+03,  8.24645480e+03,  5.65656961e+03,  3.20167789e+04,\n",
              "        2.84537703e+04,  1.66564102e+01,  2.67262249e+04,  9.71686689e+03,\n",
              "        5.83845762e+03,  1.08439023e+04,  1.40167739e+04,  1.11124604e+04,\n",
              "        1.55628047e+04,  8.79026630e+03,  3.17754620e+03,  7.90787530e+03,\n",
              "        8.11037499e+03,  9.15128773e+03,  1.21260748e+04,  3.62302788e+04,\n",
              "        1.17278773e+04,  2.88277326e+04,  4.16301713e+03,  1.00660356e+04,\n",
              "        6.46271990e+03,  5.72365497e+03,  9.96465889e+03,  6.71681215e+03,\n",
              "        2.80957309e+04,  1.03313894e+04,  3.76561329e+03,  5.96788037e+03,\n",
              "        3.25774340e+04,  4.37248256e+03,  1.09022692e+04,  3.41175478e+04,\n",
              "        2.43558374e+04,  3.36342321e+03,  3.97957953e+04,  7.93364658e+03,\n",
              "        1.23803836e+03,  6.25753178e+03,  3.13690476e+04,  1.09118918e+04,\n",
              "        5.42602751e+03,  2.87871683e+04,  1.52994260e+03,  9.77497864e+03,\n",
              "        1.10183877e+04,  1.41263746e+03,  1.69152535e+03,  5.00878701e+03,\n",
              "        6.67860156e+03,  2.12442384e+03,  3.36618821e+04,  3.93723500e+04,\n",
              "        2.06923942e+03,  3.24059789e+04,  3.21770591e+04,  3.43482621e+03,\n",
              "        2.70573646e+04,  3.18166824e+04,  2.86243212e+04,  1.00383092e+04,\n",
              "        8.00722362e+03,  5.28772090e+03,  1.11063144e+04,  2.95236585e+04,\n",
              "        2.93126387e+04,  2.84260121e+03,  7.70496548e+01,  9.86873363e+03,\n",
              "        1.18490851e+04,  7.59373487e+03,  7.78044611e+03,  3.66382807e+04,\n",
              "        1.61146219e+04,  3.67689066e+04,  5.24816374e+03,  1.42709143e+04,\n",
              "        9.32080073e+03,  1.12954069e+04,  3.11506533e+03,  1.46202461e+04,\n",
              "        1.17461594e+04,  4.91438690e+03,  1.67749481e+04,  1.23185794e+04,\n",
              "        3.26442203e+03,  4.75724324e+03,  2.13235409e+03,  3.69352263e+04])"
            ]
          },
          "metadata": {},
          "execution_count": 72
        }
      ],
      "source": [
        "mod2.predict(np.array(out_data_scale))"
      ]
    }
  ],
  "metadata": {
    "colab": {
      "provenance": []
    },
    "kernelspec": {
      "display_name": "Python 3 (ipykernel)",
      "language": "python",
      "name": "python3"
    },
    "language_info": {
      "codemirror_mode": {
        "name": "ipython",
        "version": 3
      },
      "file_extension": ".py",
      "mimetype": "text/x-python",
      "name": "python",
      "nbconvert_exporter": "python",
      "pygments_lexer": "ipython3",
      "version": "3.9.12"
    }
  },
  "nbformat": 4,
  "nbformat_minor": 0
}