{
  "nbformat": 4,
  "nbformat_minor": 0,
  "metadata": {
    "colab": {
      "provenance": []
    },
    "kernelspec": {
      "name": "python3",
      "display_name": "Python 3"
    },
    "language_info": {
      "name": "python"
    }
  },
  "cells": [
    {
      "cell_type": "markdown",
      "source": [
        "# 0.) Import the US Perminent Visas using zip extractor"
      ],
      "metadata": {
        "id": "7ywSRtNI4s5h"
      }
    },
    {
      "cell_type": "code",
      "execution_count": 1,
      "metadata": {
        "id": "nsG1QV154GYZ"
      },
      "outputs": [],
      "source": [
        "import pandas as pd\n",
        "from google.colab import drive\n",
        "import matplotlib.pyplot as plt\n",
        "import numpy as np"
      ]
    },
    {
      "cell_type": "code",
      "source": [
        "drive.mount('/content/gdrive/', force_remount = True)"
      ],
      "metadata": {
        "colab": {
          "base_uri": "https://localhost:8080/"
        },
        "id": "Iku0T8Ou4Lcu",
        "outputId": "d32854a5-0dfb-4be5-8651-13c7316eb6c9"
      },
      "execution_count": 2,
      "outputs": [
        {
          "output_type": "stream",
          "name": "stdout",
          "text": [
            "Mounted at /content/gdrive/\n"
          ]
        }
      ]
    },
    {
      "cell_type": "code",
      "source": [
        "import zipfile\n",
        "\n",
        "zf = zipfile.ZipFile(\"/content/gdrive/MyDrive/ECON441B/us_perm_visas.csv.zip\") \n",
        "df = pd.read_csv(zf.open('us_perm_visas.csv'))"
      ],
      "metadata": {
        "colab": {
          "base_uri": "https://localhost:8080/"
        },
        "id": "Q7XmCWs_rULl",
        "outputId": "b451d656-9668-42e8-fd9b-1f1afd2423c6"
      },
      "execution_count": 3,
      "outputs": [
        {
          "output_type": "stream",
          "name": "stderr",
          "text": [
            "/usr/local/lib/python3.8/dist-packages/IPython/core/interactiveshell.py:3326: DtypeWarning: Columns (0,1,2,3,4,5,6,7,10,11,16,17,20,21,22,25,26,27,28,29,30,31,32,33,34,35,36,37,39,40,41,42,43,44,45,47,48,49,50,51,52,53,55,56,57,58,59,60,61,63,64,65,66,68,69,70,71,72,73,74,77,79,80,81,82,83,84,85,86,87,88,89,90,91,92,93,94,95,100,101,103,104,105,106,107,108,109,110,111,112,113,114,115,116,117,118,119,120,121,122,123,124,125,126,127,128,129,130,131,132,133,134,135,136,137,138,139,140,141,142,143,144,145,146,147,148,149,150,153) have mixed types.Specify dtype option on import or set low_memory=False.\n",
            "  exec(code_obj, self.user_global_ns, self.user_ns)\n"
          ]
        }
      ]
    },
    {
      "cell_type": "markdown",
      "source": [
        "# 1.) US perm Visas csv from cycle using zip extractor\n"
      ],
      "metadata": {
        "id": "8VsnpGe9-B3p"
      }
    },
    {
      "cell_type": "code",
      "source": [
        "zf = zipfile.ZipFile(\"/content/gdrive/MyDrive/ECON441B/us_perm_visas.csv.zip\") \n",
        "df = pd.read_csv(zf.open('us_perm_visas.csv'))"
      ],
      "metadata": {
        "id": "JvCzIdgO983i"
      },
      "execution_count": 4,
      "outputs": []
    },
    {
      "cell_type": "markdown",
      "source": [
        "# 2.) Choose 4 features you think are important. Case_status is your target variable\n"
      ],
      "metadata": {
        "id": "lbkpNPyN-Gnk"
      }
    },
    {
      "cell_type": "code",
      "source": [
        "df.head()"
      ],
      "metadata": {
        "id": "cNu6ysyV988v",
        "colab": {
          "base_uri": "https://localhost:8080/",
          "height": 382
        },
        "outputId": "5a75e2e8-30c4-4a34-c676-df12964ee152"
      },
      "execution_count": 5,
      "outputs": [
        {
          "output_type": "execute_result",
          "data": {
            "text/plain": [
              "  add_these_pw_job_title_9089 agent_city agent_firm_name agent_state  \\\n",
              "0                         NaN        NaN             NaN         NaN   \n",
              "1                         NaN        NaN             NaN         NaN   \n",
              "2                         NaN        NaN             NaN         NaN   \n",
              "3                         NaN        NaN             NaN         NaN   \n",
              "4                         NaN        NaN             NaN         NaN   \n",
              "\n",
              "  application_type        case_no case_number case_received_date case_status  \\\n",
              "0             PERM  A-07323-97014         NaN                NaN   Certified   \n",
              "1             PERM  A-07332-99439         NaN                NaN      Denied   \n",
              "2             PERM  A-07333-99643         NaN                NaN   Certified   \n",
              "3             PERM  A-07339-01930         NaN                NaN   Certified   \n",
              "4             PERM  A-07345-03565         NaN                NaN   Certified   \n",
              "\n",
              "  class_of_admission  ... ri_pvt_employment_firm_to ri_us_workers_considered  \\\n",
              "0                J-1  ...                       NaN                      NaN   \n",
              "1                B-2  ...                       NaN                      NaN   \n",
              "2               H-1B  ...                       NaN                      NaN   \n",
              "3                B-2  ...                       NaN                      NaN   \n",
              "4                L-1  ...                       NaN                      NaN   \n",
              "\n",
              "  schd_a_sheepherder     us_economic_sector wage_offer_from_9089  \\\n",
              "0                NaN                     IT              75629.0   \n",
              "1                NaN  Other Economic Sector              37024.0   \n",
              "2                NaN              Aerospace              47923.0   \n",
              "3                NaN  Other Economic Sector                10.97   \n",
              "4                NaN           Advanced Mfg             100000.0   \n",
              "\n",
              "  wage_offer_to_9089 wage_offer_unit_of_pay_9089 wage_offered_from_9089  \\\n",
              "0                NaN                          yr                    NaN   \n",
              "1                NaN                          yr                    NaN   \n",
              "2                NaN                          yr                    NaN   \n",
              "3                NaN                          hr                    NaN   \n",
              "4                NaN                          yr                    NaN   \n",
              "\n",
              "  wage_offered_to_9089  wage_offered_unit_of_pay_9089  \n",
              "0                  NaN                            NaN  \n",
              "1                  NaN                            NaN  \n",
              "2                  NaN                            NaN  \n",
              "3                  NaN                            NaN  \n",
              "4                  NaN                            NaN  \n",
              "\n",
              "[5 rows x 154 columns]"
            ],
            "text/html": [
              "\n",
              "  <div id=\"df-dc263916-fc39-4363-a349-4f26ffe508c4\">\n",
              "    <div class=\"colab-df-container\">\n",
              "      <div>\n",
              "<style scoped>\n",
              "    .dataframe tbody tr th:only-of-type {\n",
              "        vertical-align: middle;\n",
              "    }\n",
              "\n",
              "    .dataframe tbody tr th {\n",
              "        vertical-align: top;\n",
              "    }\n",
              "\n",
              "    .dataframe thead th {\n",
              "        text-align: right;\n",
              "    }\n",
              "</style>\n",
              "<table border=\"1\" class=\"dataframe\">\n",
              "  <thead>\n",
              "    <tr style=\"text-align: right;\">\n",
              "      <th></th>\n",
              "      <th>add_these_pw_job_title_9089</th>\n",
              "      <th>agent_city</th>\n",
              "      <th>agent_firm_name</th>\n",
              "      <th>agent_state</th>\n",
              "      <th>application_type</th>\n",
              "      <th>case_no</th>\n",
              "      <th>case_number</th>\n",
              "      <th>case_received_date</th>\n",
              "      <th>case_status</th>\n",
              "      <th>class_of_admission</th>\n",
              "      <th>...</th>\n",
              "      <th>ri_pvt_employment_firm_to</th>\n",
              "      <th>ri_us_workers_considered</th>\n",
              "      <th>schd_a_sheepherder</th>\n",
              "      <th>us_economic_sector</th>\n",
              "      <th>wage_offer_from_9089</th>\n",
              "      <th>wage_offer_to_9089</th>\n",
              "      <th>wage_offer_unit_of_pay_9089</th>\n",
              "      <th>wage_offered_from_9089</th>\n",
              "      <th>wage_offered_to_9089</th>\n",
              "      <th>wage_offered_unit_of_pay_9089</th>\n",
              "    </tr>\n",
              "  </thead>\n",
              "  <tbody>\n",
              "    <tr>\n",
              "      <th>0</th>\n",
              "      <td>NaN</td>\n",
              "      <td>NaN</td>\n",
              "      <td>NaN</td>\n",
              "      <td>NaN</td>\n",
              "      <td>PERM</td>\n",
              "      <td>A-07323-97014</td>\n",
              "      <td>NaN</td>\n",
              "      <td>NaN</td>\n",
              "      <td>Certified</td>\n",
              "      <td>J-1</td>\n",
              "      <td>...</td>\n",
              "      <td>NaN</td>\n",
              "      <td>NaN</td>\n",
              "      <td>NaN</td>\n",
              "      <td>IT</td>\n",
              "      <td>75629.0</td>\n",
              "      <td>NaN</td>\n",
              "      <td>yr</td>\n",
              "      <td>NaN</td>\n",
              "      <td>NaN</td>\n",
              "      <td>NaN</td>\n",
              "    </tr>\n",
              "    <tr>\n",
              "      <th>1</th>\n",
              "      <td>NaN</td>\n",
              "      <td>NaN</td>\n",
              "      <td>NaN</td>\n",
              "      <td>NaN</td>\n",
              "      <td>PERM</td>\n",
              "      <td>A-07332-99439</td>\n",
              "      <td>NaN</td>\n",
              "      <td>NaN</td>\n",
              "      <td>Denied</td>\n",
              "      <td>B-2</td>\n",
              "      <td>...</td>\n",
              "      <td>NaN</td>\n",
              "      <td>NaN</td>\n",
              "      <td>NaN</td>\n",
              "      <td>Other Economic Sector</td>\n",
              "      <td>37024.0</td>\n",
              "      <td>NaN</td>\n",
              "      <td>yr</td>\n",
              "      <td>NaN</td>\n",
              "      <td>NaN</td>\n",
              "      <td>NaN</td>\n",
              "    </tr>\n",
              "    <tr>\n",
              "      <th>2</th>\n",
              "      <td>NaN</td>\n",
              "      <td>NaN</td>\n",
              "      <td>NaN</td>\n",
              "      <td>NaN</td>\n",
              "      <td>PERM</td>\n",
              "      <td>A-07333-99643</td>\n",
              "      <td>NaN</td>\n",
              "      <td>NaN</td>\n",
              "      <td>Certified</td>\n",
              "      <td>H-1B</td>\n",
              "      <td>...</td>\n",
              "      <td>NaN</td>\n",
              "      <td>NaN</td>\n",
              "      <td>NaN</td>\n",
              "      <td>Aerospace</td>\n",
              "      <td>47923.0</td>\n",
              "      <td>NaN</td>\n",
              "      <td>yr</td>\n",
              "      <td>NaN</td>\n",
              "      <td>NaN</td>\n",
              "      <td>NaN</td>\n",
              "    </tr>\n",
              "    <tr>\n",
              "      <th>3</th>\n",
              "      <td>NaN</td>\n",
              "      <td>NaN</td>\n",
              "      <td>NaN</td>\n",
              "      <td>NaN</td>\n",
              "      <td>PERM</td>\n",
              "      <td>A-07339-01930</td>\n",
              "      <td>NaN</td>\n",
              "      <td>NaN</td>\n",
              "      <td>Certified</td>\n",
              "      <td>B-2</td>\n",
              "      <td>...</td>\n",
              "      <td>NaN</td>\n",
              "      <td>NaN</td>\n",
              "      <td>NaN</td>\n",
              "      <td>Other Economic Sector</td>\n",
              "      <td>10.97</td>\n",
              "      <td>NaN</td>\n",
              "      <td>hr</td>\n",
              "      <td>NaN</td>\n",
              "      <td>NaN</td>\n",
              "      <td>NaN</td>\n",
              "    </tr>\n",
              "    <tr>\n",
              "      <th>4</th>\n",
              "      <td>NaN</td>\n",
              "      <td>NaN</td>\n",
              "      <td>NaN</td>\n",
              "      <td>NaN</td>\n",
              "      <td>PERM</td>\n",
              "      <td>A-07345-03565</td>\n",
              "      <td>NaN</td>\n",
              "      <td>NaN</td>\n",
              "      <td>Certified</td>\n",
              "      <td>L-1</td>\n",
              "      <td>...</td>\n",
              "      <td>NaN</td>\n",
              "      <td>NaN</td>\n",
              "      <td>NaN</td>\n",
              "      <td>Advanced Mfg</td>\n",
              "      <td>100000.0</td>\n",
              "      <td>NaN</td>\n",
              "      <td>yr</td>\n",
              "      <td>NaN</td>\n",
              "      <td>NaN</td>\n",
              "      <td>NaN</td>\n",
              "    </tr>\n",
              "  </tbody>\n",
              "</table>\n",
              "<p>5 rows × 154 columns</p>\n",
              "</div>\n",
              "      <button class=\"colab-df-convert\" onclick=\"convertToInteractive('df-dc263916-fc39-4363-a349-4f26ffe508c4')\"\n",
              "              title=\"Convert this dataframe to an interactive table.\"\n",
              "              style=\"display:none;\">\n",
              "        \n",
              "  <svg xmlns=\"http://www.w3.org/2000/svg\" height=\"24px\"viewBox=\"0 0 24 24\"\n",
              "       width=\"24px\">\n",
              "    <path d=\"M0 0h24v24H0V0z\" fill=\"none\"/>\n",
              "    <path d=\"M18.56 5.44l.94 2.06.94-2.06 2.06-.94-2.06-.94-.94-2.06-.94 2.06-2.06.94zm-11 1L8.5 8.5l.94-2.06 2.06-.94-2.06-.94L8.5 2.5l-.94 2.06-2.06.94zm10 10l.94 2.06.94-2.06 2.06-.94-2.06-.94-.94-2.06-.94 2.06-2.06.94z\"/><path d=\"M17.41 7.96l-1.37-1.37c-.4-.4-.92-.59-1.43-.59-.52 0-1.04.2-1.43.59L10.3 9.45l-7.72 7.72c-.78.78-.78 2.05 0 2.83L4 21.41c.39.39.9.59 1.41.59.51 0 1.02-.2 1.41-.59l7.78-7.78 2.81-2.81c.8-.78.8-2.07 0-2.86zM5.41 20L4 18.59l7.72-7.72 1.47 1.35L5.41 20z\"/>\n",
              "  </svg>\n",
              "      </button>\n",
              "      \n",
              "  <style>\n",
              "    .colab-df-container {\n",
              "      display:flex;\n",
              "      flex-wrap:wrap;\n",
              "      gap: 12px;\n",
              "    }\n",
              "\n",
              "    .colab-df-convert {\n",
              "      background-color: #E8F0FE;\n",
              "      border: none;\n",
              "      border-radius: 50%;\n",
              "      cursor: pointer;\n",
              "      display: none;\n",
              "      fill: #1967D2;\n",
              "      height: 32px;\n",
              "      padding: 0 0 0 0;\n",
              "      width: 32px;\n",
              "    }\n",
              "\n",
              "    .colab-df-convert:hover {\n",
              "      background-color: #E2EBFA;\n",
              "      box-shadow: 0px 1px 2px rgba(60, 64, 67, 0.3), 0px 1px 3px 1px rgba(60, 64, 67, 0.15);\n",
              "      fill: #174EA6;\n",
              "    }\n",
              "\n",
              "    [theme=dark] .colab-df-convert {\n",
              "      background-color: #3B4455;\n",
              "      fill: #D2E3FC;\n",
              "    }\n",
              "\n",
              "    [theme=dark] .colab-df-convert:hover {\n",
              "      background-color: #434B5C;\n",
              "      box-shadow: 0px 1px 3px 1px rgba(0, 0, 0, 0.15);\n",
              "      filter: drop-shadow(0px 1px 2px rgba(0, 0, 0, 0.3));\n",
              "      fill: #FFFFFF;\n",
              "    }\n",
              "  </style>\n",
              "\n",
              "      <script>\n",
              "        const buttonEl =\n",
              "          document.querySelector('#df-dc263916-fc39-4363-a349-4f26ffe508c4 button.colab-df-convert');\n",
              "        buttonEl.style.display =\n",
              "          google.colab.kernel.accessAllowed ? 'block' : 'none';\n",
              "\n",
              "        async function convertToInteractive(key) {\n",
              "          const element = document.querySelector('#df-dc263916-fc39-4363-a349-4f26ffe508c4');\n",
              "          const dataTable =\n",
              "            await google.colab.kernel.invokeFunction('convertToInteractive',\n",
              "                                                     [key], {});\n",
              "          if (!dataTable) return;\n",
              "\n",
              "          const docLinkHtml = 'Like what you see? Visit the ' +\n",
              "            '<a target=\"_blank\" href=https://colab.research.google.com/notebooks/data_table.ipynb>data table notebook</a>'\n",
              "            + ' to learn more about interactive tables.';\n",
              "          element.innerHTML = '';\n",
              "          dataTable['output_type'] = 'display_data';\n",
              "          await google.colab.output.renderOutput(dataTable, element);\n",
              "          const docLink = document.createElement('div');\n",
              "          docLink.innerHTML = docLinkHtml;\n",
              "          element.appendChild(docLink);\n",
              "        }\n",
              "      </script>\n",
              "    </div>\n",
              "  </div>\n",
              "  "
            ]
          },
          "metadata": {},
          "execution_count": 5
        }
      ]
    },
    {
      "cell_type": "code",
      "source": [
        "df.columns"
      ],
      "metadata": {
        "id": "ifsNzHvOlpdf",
        "colab": {
          "base_uri": "https://localhost:8080/"
        },
        "outputId": "611b71b8-31c3-4149-d133-25972e4974a0"
      },
      "execution_count": 6,
      "outputs": [
        {
          "output_type": "execute_result",
          "data": {
            "text/plain": [
              "Index(['add_these_pw_job_title_9089', 'agent_city', 'agent_firm_name',\n",
              "       'agent_state', 'application_type', 'case_no', 'case_number',\n",
              "       'case_received_date', 'case_status', 'class_of_admission',\n",
              "       ...\n",
              "       'ri_pvt_employment_firm_to', 'ri_us_workers_considered',\n",
              "       'schd_a_sheepherder', 'us_economic_sector', 'wage_offer_from_9089',\n",
              "       'wage_offer_to_9089', 'wage_offer_unit_of_pay_9089',\n",
              "       'wage_offered_from_9089', 'wage_offered_to_9089',\n",
              "       'wage_offered_unit_of_pay_9089'],\n",
              "      dtype='object', length=154)"
            ]
          },
          "metadata": {},
          "execution_count": 6
        }
      ]
    },
    {
      "cell_type": "code",
      "source": [
        "for i in df.columns:\n",
        "  print (i)"
      ],
      "metadata": {
        "id": "xQE60rwv98_F",
        "colab": {
          "base_uri": "https://localhost:8080/"
        },
        "outputId": "eddbf523-c103-47af-8c79-c9fe3cbd95e3"
      },
      "execution_count": 7,
      "outputs": [
        {
          "output_type": "stream",
          "name": "stdout",
          "text": [
            "add_these_pw_job_title_9089\n",
            "agent_city\n",
            "agent_firm_name\n",
            "agent_state\n",
            "application_type\n",
            "case_no\n",
            "case_number\n",
            "case_received_date\n",
            "case_status\n",
            "class_of_admission\n",
            "country_of_citizenship\n",
            "country_of_citzenship\n",
            "decision_date\n",
            "employer_address_1\n",
            "employer_address_2\n",
            "employer_city\n",
            "employer_country\n",
            "employer_decl_info_title\n",
            "employer_name\n",
            "employer_num_employees\n",
            "employer_phone\n",
            "employer_phone_ext\n",
            "employer_postal_code\n",
            "employer_state\n",
            "employer_yr_estab\n",
            "foreign_worker_info_alt_edu_experience\n",
            "foreign_worker_info_birth_country\n",
            "foreign_worker_info_city\n",
            "foreign_worker_info_education\n",
            "foreign_worker_info_education_other\n",
            "foreign_worker_info_inst\n",
            "foreign_worker_info_major\n",
            "foreign_worker_info_postal_code\n",
            "foreign_worker_info_rel_occup_exp\n",
            "foreign_worker_info_req_experience\n",
            "foreign_worker_info_state\n",
            "foreign_worker_info_training_comp\n",
            "foreign_worker_ownership_interest\n",
            "foreign_worker_yr_rel_edu_completed\n",
            "fw_info_alt_edu_experience\n",
            "fw_info_birth_country\n",
            "fw_info_education_other\n",
            "fw_info_postal_code\n",
            "fw_info_rel_occup_exp\n",
            "fw_info_req_experience\n",
            "fw_info_training_comp\n",
            "fw_info_yr_rel_edu_completed\n",
            "fw_ownership_interest\n",
            "ji_foreign_worker_live_on_premises\n",
            "ji_fw_live_on_premises\n",
            "ji_live_in_dom_svc_contract\n",
            "ji_live_in_domestic_service\n",
            "ji_offered_to_sec_j_foreign_worker\n",
            "ji_offered_to_sec_j_fw\n",
            "job_info_alt_cmb_ed_oth_yrs\n",
            "job_info_alt_combo_ed\n",
            "job_info_alt_combo_ed_exp\n",
            "job_info_alt_combo_ed_other\n",
            "job_info_alt_field\n",
            "job_info_alt_field_name\n",
            "job_info_alt_occ\n",
            "job_info_alt_occ_job_title\n",
            "job_info_alt_occ_num_months\n",
            "job_info_combo_occupation\n",
            "job_info_education\n",
            "job_info_education_other\n",
            "job_info_experience\n",
            "job_info_experience_num_months\n",
            "job_info_foreign_ed\n",
            "job_info_foreign_lang_req\n",
            "job_info_job_req_normal\n",
            "job_info_job_title\n",
            "job_info_major\n",
            "job_info_training\n",
            "job_info_training_field\n",
            "job_info_training_num_months\n",
            "job_info_work_city\n",
            "job_info_work_postal_code\n",
            "job_info_work_state\n",
            "naics_2007_us_code\n",
            "naics_2007_us_title\n",
            "naics_code\n",
            "naics_title\n",
            "naics_us_code\n",
            "naics_us_code_2007\n",
            "naics_us_title\n",
            "naics_us_title_2007\n",
            "orig_case_no\n",
            "orig_file_date\n",
            "preparer_info_emp_completed\n",
            "preparer_info_title\n",
            "pw_amount_9089\n",
            "pw_determ_date\n",
            "pw_expire_date\n",
            "pw_job_title_908\n",
            "pw_job_title_9089\n",
            "pw_level_9089\n",
            "pw_soc_code\n",
            "pw_soc_title\n",
            "pw_source_name_9089\n",
            "pw_source_name_other_9089\n",
            "pw_track_num\n",
            "pw_unit_of_pay_9089\n",
            "rec_info_barg_rep_notified\n",
            "recr_info_barg_rep_notified\n",
            "recr_info_coll_teach_comp_proc\n",
            "recr_info_coll_univ_teacher\n",
            "recr_info_employer_rec_payment\n",
            "recr_info_first_ad_start\n",
            "recr_info_job_fair_from\n",
            "recr_info_job_fair_to\n",
            "recr_info_on_campus_recr_from\n",
            "recr_info_on_campus_recr_to\n",
            "recr_info_pro_org_advert_from\n",
            "recr_info_pro_org_advert_to\n",
            "recr_info_prof_org_advert_from\n",
            "recr_info_prof_org_advert_to\n",
            "recr_info_professional_occ\n",
            "recr_info_radio_tv_ad_from\n",
            "recr_info_radio_tv_ad_to\n",
            "recr_info_second_ad_start\n",
            "recr_info_sunday_newspaper\n",
            "recr_info_swa_job_order_end\n",
            "recr_info_swa_job_order_start\n",
            "refile\n",
            "ri_1st_ad_newspaper_name\n",
            "ri_2nd_ad_newspaper_name\n",
            "ri_2nd_ad_newspaper_or_journal\n",
            "ri_campus_placement_from\n",
            "ri_campus_placement_to\n",
            "ri_coll_tch_basic_process\n",
            "ri_coll_teach_pro_jnl\n",
            "ri_coll_teach_select_date\n",
            "ri_employee_referral_prog_from\n",
            "ri_employee_referral_prog_to\n",
            "ri_employer_web_post_from\n",
            "ri_employer_web_post_to\n",
            "ri_job_search_website_from\n",
            "ri_job_search_website_to\n",
            "ri_layoff_in_past_six_months\n",
            "ri_local_ethnic_paper_from\n",
            "ri_local_ethnic_paper_to\n",
            "ri_posted_notice_at_worksite\n",
            "ri_pvt_employment_firm_from\n",
            "ri_pvt_employment_firm_to\n",
            "ri_us_workers_considered\n",
            "schd_a_sheepherder\n",
            "us_economic_sector\n",
            "wage_offer_from_9089\n",
            "wage_offer_to_9089\n",
            "wage_offer_unit_of_pay_9089\n",
            "wage_offered_from_9089\n",
            "wage_offered_to_9089\n",
            "wage_offered_unit_of_pay_9089\n"
          ]
        }
      ]
    },
    {
      "cell_type": "code",
      "source": [
        "df_select = df[['case_status',\"class_of_admission\",'application_type','country_of_citizenship']]"
      ],
      "metadata": {
        "id": "bkfqhq4J99A6"
      },
      "execution_count": 22,
      "outputs": []
    },
    {
      "cell_type": "markdown",
      "source": [
        "# 3.) Clean your data for a decision tree\n"
      ],
      "metadata": {
        "id": "bIJx2jvD-KEI"
      }
    },
    {
      "cell_type": "code",
      "source": [
        "y = df_select[\"case_status\"]\n",
        "df_select2 = df_select.drop(\"case_status\",axis = 1)\n",
        "X =  pd.get_dummies(df_select2)"
      ],
      "metadata": {
        "id": "NvwomEoaGAgN"
      },
      "execution_count": 25,
      "outputs": []
    },
    {
      "cell_type": "markdown",
      "source": [
        "# 4.) Fit and plot a decision tree of depth 3\n"
      ],
      "metadata": {
        "id": "PeurmqI4-OoC"
      }
    },
    {
      "cell_type": "code",
      "source": [
        "from sklearn import tree"
      ],
      "metadata": {
        "id": "udwK0byx-RLA"
      },
      "execution_count": 26,
      "outputs": []
    },
    {
      "cell_type": "code",
      "source": [
        "clf = tree.DecisionTreeClassifier(max_depth=3)\n",
        "clf.fit(X,y)"
      ],
      "metadata": {
        "colab": {
          "base_uri": "https://localhost:8080/"
        },
        "id": "XaGsO-SYcnB-",
        "outputId": "1f52fc16-42ef-412c-e7a3-d2f7bc4486d8"
      },
      "execution_count": 27,
      "outputs": [
        {
          "output_type": "execute_result",
          "data": {
            "text/plain": [
              "DecisionTreeClassifier(max_depth=3)"
            ]
          },
          "metadata": {},
          "execution_count": 27
        }
      ]
    },
    {
      "cell_type": "code",
      "source": [
        "plt.figure(figsize = (20,10))\n",
        "tree.plot_tree(clf,feature_names = X.columns,class_names = y)"
      ],
      "metadata": {
        "colab": {
          "base_uri": "https://localhost:8080/",
          "height": 830
        },
        "id": "HEvV-s-Gtlw8",
        "outputId": "9b4c9363-bd23-4b4e-aff8-4e2bdacf953c"
      },
      "execution_count": 32,
      "outputs": [
        {
          "output_type": "execute_result",
          "data": {
            "text/plain": [
              "[Text(0.5, 0.875, 'application_type_MAILEDIN <= 0.5\\ngini = 0.599\\nsamples = 374362\\nvalue = [181933, 148586, 25649, 18194]\\nclass = Certified'),\n",
              " Text(0.25, 0.625, 'application_type_PERM <= 0.5\\ngini = 0.596\\nsamples = 372233\\nvalue = [181749, 148265, 24141, 18078]\\nclass = Certified'),\n",
              " Text(0.125, 0.375, 'application_type_ONLINE <= 0.5\\ngini = 0.594\\nsamples = 351657\\nvalue = [169942, 143538, 21456, 16721]\\nclass = Certified'),\n",
              " Text(0.0625, 0.125, 'gini = 0.58\\nsamples = 239093\\nvalue = [120969, 95570, 12781, 9773]\\nclass = Certified'),\n",
              " Text(0.1875, 0.125, 'gini = 0.619\\nsamples = 112564\\nvalue = [48973, 47968, 8675, 6948]\\nclass = Certified'),\n",
              " Text(0.375, 0.375, 'class_of_admission_H-1B <= 0.5\\ngini = 0.597\\nsamples = 20576\\nvalue = [11807, 4727, 2685, 1357]\\nclass = Certified'),\n",
              " Text(0.3125, 0.125, 'gini = 0.665\\nsamples = 4288\\nvalue = [2026, 707, 1191, 364]\\nclass = Certified'),\n",
              " Text(0.4375, 0.125, 'gini = 0.566\\nsamples = 16288\\nvalue = [9781, 4020, 1494, 993]\\nclass = Certified'),\n",
              " Text(0.75, 0.625, 'class_of_admission_EWI <= 0.5\\ngini = 0.465\\nsamples = 2129\\nvalue = [184, 321, 1508, 116]\\nclass = Certified'),\n",
              " Text(0.625, 0.375, 'country_of_citizenship_SOUTH KOREA <= 0.5\\ngini = 0.437\\nsamples = 1837\\nvalue = [139, 238, 1345, 115]\\nclass = Certified'),\n",
              " Text(0.5625, 0.125, 'gini = 0.409\\nsamples = 1666\\nvalue = [109, 204, 1256, 97]\\nclass = Certified'),\n",
              " Text(0.6875, 0.125, 'gini = 0.648\\nsamples = 171\\nvalue = [30, 34, 89, 18]\\nclass = Certified'),\n",
              " Text(0.875, 0.375, 'country_of_citizenship_HONDURAS <= 0.5\\ngini = 0.584\\nsamples = 292\\nvalue = [45, 83, 163, 1]\\nclass = Certified'),\n",
              " Text(0.8125, 0.125, 'gini = 0.578\\nsamples = 285\\nvalue = [44, 78, 162, 1]\\nclass = Certified'),\n",
              " Text(0.9375, 0.125, 'gini = 0.449\\nsamples = 7\\nvalue = [1, 5, 1, 0]\\nclass = Denied')]"
            ]
          },
          "metadata": {},
          "execution_count": 32
        },
        {
          "output_type": "display_data",
          "data": {
            "text/plain": [
              "<Figure size 1440x720 with 1 Axes>"
            ],
            "image/png": "[encoded data removed]"
          },
          "metadata": {
            "needs_background": "light"
          }
        }
      ]
    },
    {
      "cell_type": "markdown",
      "source": [
        "# 5.) Write your interpretation of the largest (by sample size) leaf node\n"
      ],
      "metadata": {
        "id": "6isBwtmL-R4p"
      }
    },
    {
      "cell_type": "markdown",
      "source": [
        "From the visualization of decision tree, if they are certified, the application type is ONLINE rather than PERM or MAILEDIN. If they are not certified, there are higher probability of deny if their application type is MAILEDIN, class of admission is EWI, and their country of citizenship is HONDURAS."
      ],
      "metadata": {
        "id": "1KNahi7PlRsb"
      }
    },
    {
      "cell_type": "markdown",
      "source": [
        "# 6.) Using a for loop, make your own train-test split and determine the best max_depth for out-of sample accuracy"
      ],
      "metadata": {
        "id": "aQa3sanl-XUk"
      }
    },
    {
      "cell_type": "code",
      "source": [
        "from sklearn.model_selection import train_test_split\n",
        "from sklearn.metrics import accuracy_score"
      ],
      "metadata": {
        "id": "Ir09YIy8f14k"
      },
      "execution_count": 33,
      "outputs": []
    },
    {
      "cell_type": "code",
      "source": [
        "max_depths = [1,2,3]\n",
        "outputs = []\n",
        "\n",
        "train_X, test_X, train_y, test_y = train_test_split(X,y,test_size = 0.3)# train test split\n",
        "for md in max_depths:\n",
        "  clf = tree.DecisionTreeClassifier(max_depth=md)\n",
        "  clf.fit(train_X,train_y)\n",
        "  pred_y = clf.predict(test_X)\n",
        "  oos_accuracy = accuracy_score(test_y,pred_y)\n",
        "  outputs.append(oos_accuracy)"
      ],
      "metadata": {
        "id": "9QA-y6HCslBR"
      },
      "execution_count": 36,
      "outputs": []
    },
    {
      "cell_type": "code",
      "source": [
        "print(outputs)"
      ],
      "metadata": {
        "id": "vVaHpqf9wHj7",
        "colab": {
          "base_uri": "https://localhost:8080/"
        },
        "outputId": "521fafc4-742a-42c1-f172-19b4624013c2"
      },
      "execution_count": 37,
      "outputs": [
        {
          "output_type": "stream",
          "name": "stdout",
          "text": [
            "[0.4880285640509665, 0.4880285640509665, 0.4880374680568788]\n"
          ]
        }
      ]
    },
    {
      "cell_type": "markdown",
      "source": [
        "We can see we have the highest accuracy score when the max depth equals to 3. "
      ],
      "metadata": {
        "id": "rcLTy9MZn92A"
      }
    }
  ]
}